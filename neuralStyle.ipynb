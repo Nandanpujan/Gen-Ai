{
  "nbformat": 4,
  "nbformat_minor": 0,
  "metadata": {
    "colab": {
      "provenance": [],
      "authorship_tag": "ABX9TyPZvfH8PB71o6aytzBzOJxU",
      "include_colab_link": true
    },
    "kernelspec": {
      "name": "python3",
      "display_name": "Python 3"
    },
    "language_info": {
      "name": "python"
    }
  },
  "cells": [
    {
      "cell_type": "markdown",
      "metadata": {
        "id": "view-in-github",
        "colab_type": "text"
      },
      "source": [
        "<a href=\"https://colab.research.google.com/github/Nandanpujan/Gen-Ai/blob/main/neuralStyle.ipynb\" target=\"_parent\"><img src=\"https://colab.research.google.com/assets/colab-badge.svg\" alt=\"Open In Colab\"/></a>"
      ]
    },
    {
      "cell_type": "code",
      "execution_count": null,
      "metadata": {
        "id": "j5UljzO8aktN"
      },
      "outputs": [],
      "source": []
    },
    {
      "cell_type": "markdown",
      "metadata": {
        "id": "9a261c0a"
      },
      "source": [
        "# Task\n",
        "Apply the artistic style of the image \"style.jpg\" to the content of the image \"content.jpg\" using neural style transfer."
      ]
    },
    {
      "cell_type": "markdown",
      "metadata": {
        "id": "0b86695b"
      },
      "source": [
        "## Setup\n",
        "\n",
        "### Subtask:\n",
        "Install the necessary libraries for image processing and style transfer.\n"
      ]
    },
    {
      "cell_type": "markdown",
      "metadata": {
        "id": "62ba320f"
      },
      "source": [
        "**Reasoning**:\n",
        "Install the required libraries using pip.\n",
        "\n"
      ]
    },
    {
      "cell_type": "code",
      "metadata": {
        "id": "c1a691d2"
      },
      "source": [
        "%pip install tensorflow tensorflow-hub numpy matplotlib Pillow"
      ],
      "execution_count": null,
      "outputs": []
    },
    {
      "cell_type": "markdown",
      "metadata": {
        "id": "fbf8df17"
      },
      "source": [
        "## Image loading\n",
        "\n",
        "### Subtask:\n",
        "Load the content and style images.\n"
      ]
    },
    {
      "cell_type": "markdown",
      "metadata": {
        "id": "8c7926b9"
      },
      "source": [
        "**Reasoning**:\n",
        "Import the necessary library and define a function to load and preprocess images, then use this function to load the content and style images.\n",
        "\n"
      ]
    },
    {
      "cell_type": "code",
      "metadata": {
        "id": "5cf0d37b"
      },
      "source": [
        "import tensorflow as tf\n",
        "\n",
        "def load_img(path_to_img):\n",
        "    img = tf.io.read_file(path_to_img)\n",
        "    img = tf.image.decode_image(img, channels=3)\n",
        "    img = tf.image.convert_image_dtype(img, tf.float32)\n",
        "    img = img[tf.newaxis, :]\n",
        "    return img\n",
        "\n",
        "content_image = load_img(\"content.jpg\")\n",
        "style_image = load_img(\"style.jpg\")"
      ],
      "execution_count": null,
      "outputs": []
    },
    {
      "cell_type": "markdown",
      "metadata": {
        "id": "ee13d70a"
      },
      "source": [
        "## Model loading\n",
        "\n",
        "### Subtask:\n",
        "Load a pre-trained neural network model suitable for style transfer.\n"
      ]
    },
    {
      "cell_type": "markdown",
      "metadata": {
        "id": "c39bac37"
      },
      "source": [
        "**Reasoning**:\n",
        "Load a pre-trained neural network model suitable for style transfer from TensorFlow Hub.\n",
        "\n"
      ]
    },
    {
      "cell_type": "code",
      "metadata": {
        "id": "36af738f"
      },
      "source": [
        "import tensorflow_hub as hub\n",
        "\n",
        "hub_model = hub.load('https://tfhub.dev/google/magenta/arbitrary-image-stylization-v1-256/2')"
      ],
      "execution_count": null,
      "outputs": []
    },
    {
      "cell_type": "markdown",
      "metadata": {
        "id": "bd39ef4e"
      },
      "source": [
        "## Style transfer implementation\n",
        "\n",
        "### Subtask:\n",
        "Implement the style transfer algorithm to combine the content and style of the images.\n"
      ]
    },
    {
      "cell_type": "markdown",
      "metadata": {
        "id": "b4881abb"
      },
      "source": [
        "**Reasoning**:\n",
        "Apply the loaded hub_model to the content and style images to generate the stylized image.\n",
        "\n"
      ]
    },
    {
      "cell_type": "code",
      "metadata": {
        "id": "f243622f"
      },
      "source": [
        "stylized_image = hub_model(tf.constant(content_image), tf.constant(style_image))[0]"
      ],
      "execution_count": null,
      "outputs": []
    },
    {
      "cell_type": "markdown",
      "metadata": {
        "id": "ed97263b"
      },
      "source": [
        "## Image saving\n",
        "\n",
        "### Subtask:\n",
        "Save the resulting image with the applied style.\n"
      ]
    },
    {
      "cell_type": "markdown",
      "metadata": {
        "id": "aaef0eec"
      },
      "source": [
        "**Reasoning**:\n",
        "Convert the stylized image tensor to uint8, squeeze the batch dimension, and save it as a PNG file.\n",
        "\n"
      ]
    },
    {
      "cell_type": "code",
      "metadata": {
        "id": "75d7d5d5"
      },
      "source": [
        "import PIL.Image\n",
        "import numpy as np\n",
        "\n",
        "stylized_image_uint8 = tf.image.convert_image_dtype(stylized_image, dtype=tf.uint8)\n",
        "stylized_image_squeezed = tf.squeeze(stylized_image_uint8, axis=0)\n",
        "pil_image = PIL.Image.fromarray(stylized_image_squeezed.numpy())\n",
        "pil_image.save('stylized_image.png')"
      ],
      "execution_count": null,
      "outputs": []
    },
    {
      "cell_type": "markdown",
      "metadata": {
        "id": "1e632875"
      },
      "source": [
        "## Summary:\n",
        "\n",
        "### Data Analysis Key Findings\n",
        "\n",
        "*   The necessary libraries for image processing and style transfer, including `tensorflow`, `tensorflow-hub`, `numpy`, `matplotlib`, and `Pillow`, were successfully installed.\n",
        "*   The content and style images were successfully loaded, decoded, converted to float tensors, and normalized.\n",
        "*   A pre-trained arbitrary image stylization model was successfully loaded from TensorFlow Hub.\n",
        "*   The pre-trained model was successfully applied to the content and style images to generate a stylized image.\n",
        "*   The resulting stylized image was successfully converted to an 8-bit integer format, reshaped, converted to a PIL Image object, and saved as 'stylized\\_image.png'.\n",
        "\n",
        "### Insights or Next Steps\n",
        "\n",
        "*   The process successfully demonstrates the application of neural style transfer using a pre-trained model from TensorFlow Hub.\n",
        "*   The generated 'stylized\\_image.png' can now be viewed to assess the effectiveness of the style transfer.\n"
      ]
    }
  ]
}